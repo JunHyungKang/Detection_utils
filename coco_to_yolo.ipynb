{
 "cells": [
  {
   "cell_type": "code",
   "execution_count": null,
   "id": "83890627-5202-470c-8e89-e26e63837e82",
   "metadata": {},
   "outputs": [],
   "source": [
    "# Dash -8 \n",
    "\n",
    "\n",
    "!python train.py --data coco.yaml --cfg yolov5s.yaml --weights '' --batch-size 64"
   ]
  },
  {
   "cell_type": "code",
   "execution_count": 4,
   "id": "101bdec7-d90f-4de3-9b21-297d3de5dff1",
   "metadata": {},
   "outputs": [
    {
     "name": "stdout",
     "output_type": "stream",
     "text": [
      "['GOPR1798', 'GOPR2691', 'GOPR2700', 'GOPR2705', 'MVI_0002', 'GOPR2698', 'GOPR1874', 'GOPR1693', 'GOPR2726', 'GOPR1794', 'GOPR1858', 'GOPR2687', 'GOPR1864', 'GOPR1797', 'GOPR2096', 'GOPR1805', 'GOPR0830', 'GOPR1789', 'GOPR1876', 'GOPR2150', 'GOPR2727', 'GOPR2701', 'GOPR1857', 'GOPR2693', 'GOPR1855', 'GOPR1781', 'GOPR2692', 'GOPR2669', 'GOPR2666', 'GOPR1810', 'GOPR1808', 'GOPR1878', 'GOPR1866', 'GOPR2708', 'GOPR0806', 'GOPR1877', 'GOPR2711', 'GOPR0808', 'MVI_0008', 'GOPR2456', 'GOPR2664', 'GOPR2036', 'GOPR0829', 'GOPR0807', 'GOPR1860', 'GOPR2712', 'GOPR2342', 'GOPR2735', 'GOPR0863', 'MVI_0010', 'GOPR0827', 'GOPR2662', 'GOPR0815', 'GOPR1861', 'GOPR2695', 'GOPR2681', 'GOPR2663', 'GOPR2678', 'GOPR0860', 'GOPR0864', 'GOPR1873', 'MVI_0009', 'GOPR0859', 'GOPR0802', 'GOPR2422', 'GOPR1813', 'GOPR2676', 'GOPR2710', 'GOPR0824', 'GOPR1859', 'GOPR1790', 'GOPR2670', 'GOPR2672', 'GOPR1879', 'GOPR2732', 'GOPR1796', 'GOPR2157', 'GOPR0865', 'GOPR2728', 'GOPR0951', 'GOPR2673', 'GOPR0805', 'GOPR1875', 'GOPR0810', 'GOPR2201', 'GOPR2671', 'GOPR0816', 'MVI_0013', 'GOPR1870', 'GOPR1804', 'GOPR1716', 'GOPR0813', 'GOPR2675', 'GOPR2706', 'GOPR1802', 'GOPR0804', 'GOPR1725', 'GOPR2275', 'GOPR2679', 'GOPR0812', 'GOPR2707', 'MVI_0007', 'GOPR1807', 'GOPR1881', 'GOPR1811', 'GOPR2668', 'GOPR1715', 'GOPR1853', 'GOPR1793', 'GOPR2739', 'MVI_0005', 'GOPR0952', 'GOPR2690', 'MVI_0004', 'GOPR1854', 'GOPR1865', 'GOPR2377', 'GOPR1791', 'GOPR2688', 'GOPR2686', 'GOPR1724', 'GOPR1806', 'GOPR1799', 'GOPR2689', 'GOPR1726', 'GOPR1812', 'GOPR1801', 'GOPR1800', 'GOPR2667', 'GOPR1803', 'GOPR2665', 'GOPR1792', 'GOPR1856', 'GOPR0866', 'GOPR2677', 'GOPR0811', 'GOPR0814', 'GOPR2680', 'GOPR1787', 'GOPR2703', 'GOPR0809', 'GOPR0825', 'GOPR2702', 'GOPR1788', 'GOPR0832', 'GOPR2694', 'GOPR2318']\n"
     ]
    }
   ],
   "source": [
    "import os\n",
    "day_folders = os.listdir('/media/data1/DASHLAB_FALLDOWN_cropped/data/day_night_split/day')\n",
    "print(day_folders)"
   ]
  },
  {
   "cell_type": "code",
   "execution_count": 5,
   "id": "b39414da-990d-4d29-87ee-e38a4afef6d8",
   "metadata": {},
   "outputs": [],
   "source": [
    "import sys\n",
    "import os\n",
    "import csv\n",
    "\n",
    "import xml.etree.ElementTree as Et\n",
    "from xml.etree.ElementTree import Element, ElementTree\n",
    "from PIL import Image\n",
    "\n",
    "import json\n",
    "\n",
    "from xml.etree.ElementTree import dump"
   ]
  },
  {
   "cell_type": "code",
   "execution_count": 8,
   "id": "1e356eae-04a4-4634-ab03-ae724359c353",
   "metadata": {},
   "outputs": [],
   "source": [
    "json_path = '/media/data1/DASHLAB_FALLDOWN_cropped/data/day_night_split/annotations/day.json'\n",
    "json_data = json.load(open(json_path))"
   ]
  },
  {
   "cell_type": "code",
   "execution_count": 24,
   "id": "c7afeb09-6dfa-44c4-aa12-e152438934b1",
   "metadata": {},
   "outputs": [],
   "source": [
    "images_info = json_data[\"images\"]\n",
    "type_info = json_data[\"type\"]\n",
    "cls_info = json_data[\"categories\"]\n",
    "anno_info = json_data[\"annotations\"]"
   ]
  },
  {
   "cell_type": "code",
   "execution_count": 30,
   "id": "059b0ba0-00e8-4985-b958-70a61e97639f",
   "metadata": {},
   "outputs": [
    {
     "name": "stdout",
     "output_type": "stream",
     "text": [
      "instances\n",
      "[{'supercategory': 'none', 'id': 1, 'name': '0'}, {'supercategory': 'none', 'id': 2, 'name': '1'}]\n"
     ]
    }
   ],
   "source": [
    "print(type_info)\n",
    "print(cls_info)"
   ]
  },
  {
   "cell_type": "code",
   "execution_count": 29,
   "id": "f4b9fdf2-a56f-422d-b3c9-4c3f7b264870",
   "metadata": {},
   "outputs": [
    {
     "name": "stdout",
     "output_type": "stream",
     "text": [
      "{'file_name': 'MVI_0007/images/MVI_0007_01083.jpg', 'height': 1080, 'width': 1920, 'id': 'MVI_0007/images/MVI_0007_01083'}\n",
      "{'area': 271050, 'iscrowd': 0, 'bbox': [1018, 242, 325, 834], 'category_id': 1, 'ignore': 0, 'segmentation': [], 'image_id': 'MVI_0007/images/MVI_0007_01083', 'id': 1}\n"
     ]
    }
   ],
   "source": [
    "print(images_info[0])\n",
    "print(anno_info[0])"
   ]
  },
  {
   "cell_type": "code",
   "execution_count": 31,
   "id": "44ec5c16-5246-464e-8f48-af2ccb461e02",
   "metadata": {},
   "outputs": [
    {
     "name": "stdout",
     "output_type": "stream",
     "text": [
      "46282\n",
      "186140\n"
     ]
    }
   ],
   "source": [
    "print(len(images_info))\n",
    "print(len(anno_info))"
   ]
  },
  {
   "cell_type": "code",
   "execution_count": 36,
   "id": "abbc2d17-51cc-4a5e-af67-8c437ee19a00",
   "metadata": {},
   "outputs": [
    {
     "name": "stderr",
     "output_type": "stream",
     "text": [
      "100%|██████████| 186140/186140 [10:13<00:00, 303.62it/s]\n"
     ]
    }
   ],
   "source": [
    "import tqdm\n",
    "\n",
    "data = {}\n",
    "\n",
    "for anno in tqdm.tqdm(anno_info):\n",
    "    img_id = anno['image_id']\n",
    "    cls_id = anno['category_id']\n",
    "    \n",
    "    filename = None\n",
    "    img_width = None\n",
    "    img_height = None\n",
    "    cl = None\n",
    "    \n",
    "    for info in images_info:\n",
    "        if info['id'] == img_id:\n",
    "            filename = info['id']\n",
    "            img_width = info['width']\n",
    "            img_height = info['height']\n",
    "    \n",
    "    for cat in cls_info:\n",
    "        if cat['id'] == cls_id:\n",
    "            cl = cat['name']\n",
    "        \n",
    "    size = {\n",
    "        'width': img_width,\n",
    "        'height': img_height\n",
    "    }\n",
    "    \n",
    "    bbox = {\n",
    "        \"xmin\": anno[\"bbox\"][0],\n",
    "        \"ymin\": anno[\"bbox\"][1],\n",
    "        \"xmax\": anno[\"bbox\"][2] + anno[\"bbox\"][0],\n",
    "        \"ymax\": anno[\"bbox\"][3] + anno[\"bbox\"][1]\n",
    "    }\n",
    "    \n",
    "    obj_info = {\n",
    "        'name': cl,\n",
    "        'bndbox': bbox\n",
    "    }\n",
    "    \n",
    "    if filename in data:\n",
    "        obj_idx = str(int(data[filename][\"objects\"][\"num_obj\"]))\n",
    "        data[filename][\"objects\"][str(obj_idx)] = obj_info\n",
    "        data[filename][\"objects\"][\"num_obj\"] = int(obj_idx) + 1\n",
    "    elif filename not in data:\n",
    "        obj = {\n",
    "            \"num_obj\": \"1\",\n",
    "            \"0\": obj_info\n",
    "        }\n",
    "\n",
    "        data[filename] = {\n",
    "            \"size\": size,\n",
    "            \"objects\": obj,\n",
    "            'filename': filename\n",
    "        }"
   ]
  },
  {
   "cell_type": "code",
   "execution_count": 74,
   "id": "5765a448-f33a-4531-b9c3-c4d3449f6599",
   "metadata": {},
   "outputs": [
    {
     "name": "stderr",
     "output_type": "stream",
     "text": [
      "100%|██████████| 45691/45691 [00:05<00:00, 8174.12it/s]\n"
     ]
    }
   ],
   "source": [
    "path = '/media/data1/DASHLAB_FALLDOWN_cropped/data/day_night_split/day'\n",
    "\n",
    "for img in tqdm.tqdm(data):\n",
    "    label_path = os.path.join(path, img.replace('images','labels')+'.txt')\n",
    "    label_folder = '/'.join(label_path.split('/')[:-1])\n",
    "    if not os.path.isdir(label_folder):                                                           \n",
    "        os.mkdir(label_folder)\n",
    "    ff = open(label_path, 'w')\n",
    "    ff.close()\n",
    "    width, height = data[img]['size']['width'], data[img]['size']['height']\n",
    "    for i in range(len(data[img]['objects'])-1):\n",
    "        \n",
    "        cl = data[img]['objects'][str(i)]['name']\n",
    "        xmin, ymin = data[img]['objects'][str(i)]['bndbox']['xmin'], data[img]['objects'][str(i)]['bndbox']['ymin']\n",
    "        xmax, ymax = data[img]['objects'][str(i)]['bndbox']['xmax'], data[img]['objects'][str(i)]['bndbox']['ymax']\n",
    "        \n",
    "        x = (xmin + xmax) / 2\n",
    "        y = (ymin + ymax) / 2\n",
    "        w = xmax - xmin\n",
    "        h = ymax - ymin\n",
    "        \n",
    "        ff = open(label_path, 'a')\n",
    "        ff.write(str(cl) + ' ' + str(x/width) + ' ' + str(y/height) + ' ' + str(w/width) + ' ' + str(h/height) + '\\n')\n",
    "        ff.close()"
   ]
  },
  {
   "cell_type": "code",
   "execution_count": null,
   "id": "b6576852-8a4c-4c10-a4b3-ae53274a78c6",
   "metadata": {},
   "outputs": [],
   "source": []
  }
 ],
 "metadata": {
  "kernelspec": {
   "display_name": "Python 3",
   "language": "python",
   "name": "python3"
  },
  "language_info": {
   "codemirror_mode": {
    "name": "ipython",
    "version": 3
   },
   "file_extension": ".py",
   "mimetype": "text/x-python",
   "name": "python",
   "nbconvert_exporter": "python",
   "pygments_lexer": "ipython3",
   "version": "3.7.10"
  }
 },
 "nbformat": 4,
 "nbformat_minor": 5
}
